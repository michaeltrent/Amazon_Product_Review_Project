{
 "cells": [
  {
   "cell_type": "markdown",
   "metadata": {},
   "source": [
    "This exercise will require you to pull some data from the Qunadl API. Qaundl is currently the most widely used aggregator of financial market data."
   ]
  },
  {
   "cell_type": "markdown",
   "metadata": {},
   "source": [
    "As a first step, you will need to register a free account on the http://www.quandl.com website."
   ]
  },
  {
   "cell_type": "markdown",
   "metadata": {},
   "source": [
    "After you register, you will be provided with a unique API key, that you should store:"
   ]
  },
  {
   "cell_type": "code",
   "execution_count": 1,
   "metadata": {},
   "outputs": [],
   "source": [
    "# Store the API key as a string - according to PEP8, constants are always named in all upper case\n",
    "API_KEY = 'o'"
   ]
  },
  {
   "cell_type": "markdown",
   "metadata": {},
   "source": [
    "Qaundl has a large number of data sources, but, unfortunately, most of them require a Premium subscription. Still, there are also a good number of free datasets."
   ]
  },
  {
   "cell_type": "markdown",
   "metadata": {},
   "source": [
    "For this mini project, we will focus on equities data from the Frankfurt Stock Exhange (FSE), which is available for free. We'll try and analyze the stock prices of a company called Carl Zeiss Meditec, which manufactures tools for eye examinations, as well as medical lasers for laser eye surgery: https://www.zeiss.com/meditec/int/home.html. The company is listed under the stock ticker AFX_X."
   ]
  },
  {
   "cell_type": "markdown",
   "metadata": {},
   "source": [
    "You can find the detailed Quandl API instructions here: https://docs.quandl.com/docs/time-series"
   ]
  },
  {
   "cell_type": "markdown",
   "metadata": {},
   "source": [
    "While there is a dedicated Python package for connecting to the Quandl API, we would prefer that you use the *requests* package, which can be easily downloaded using *pip* or *conda*. You can find the documentation for the package here: http://docs.python-requests.org/en/master/ "
   ]
  },
  {
   "cell_type": "markdown",
   "metadata": {},
   "source": [
    "Finally, apart from the *requests* package, you are encouraged to not use any third party Python packages, such as *pandas*, and instead focus on what's available in the Python Standard Library (the *collections* module might come in handy: https://pymotw.com/3/collections/ ).\n",
    "Also, since you won't have access to DataFrames, you are encouraged to us Python's native data structures - preferably dictionaries, though some questions can also be answered using lists.\n",
    "You can read more on these data structures here: https://docs.python.org/3/tutorial/datastructures.html"
   ]
  },
  {
   "cell_type": "markdown",
   "metadata": {},
   "source": [
    "Keep in mind that the JSON responses you will be getting from the API map almost one-to-one to Python's dictionaries. Unfortunately, they can be very nested, so make sure you read up on indexing dictionaries in the documentation provided above."
   ]
  },
  {
   "cell_type": "code",
   "execution_count": 2,
   "metadata": {},
   "outputs": [],
   "source": [
    "# First, import the relevant modules\n",
    "import requests"
   ]
  },
  {
   "cell_type": "code",
   "execution_count": 3,
   "metadata": {},
   "outputs": [],
   "source": [
    "# Now, call the Quandl API and pull out a small sample of the data (only one day) to get a glimpse\n",
    "# into the JSON structure that will be returned\n",
    "response = requests.get('https://www.quandl.com/api/v3/datasets/FSE/AFX_X?start_date=2020-07-23&end_date=2020-07-24&api_key='+API_KEY)"
   ]
  },
  {
   "cell_type": "code",
   "execution_count": 4,
   "metadata": {},
   "outputs": [
    {
     "data": {
      "text/plain": [
       "{'dataset': {'id': 10095370,\n",
       "  'dataset_code': 'AFX_X',\n",
       "  'database_code': 'FSE',\n",
       "  'name': 'Carl Zeiss Meditec (AFX_X)',\n",
       "  'description': 'Stock Prices for Carl Zeiss Meditec (2020-07-10) from the Frankfurt Stock Exchange.<br><br>Trading System: Xetra<br><br>ISIN: DE0005313704',\n",
       "  'refreshed_at': '2020-07-24T22:16:22.029Z',\n",
       "  'newest_available_date': '2020-07-24',\n",
       "  'oldest_available_date': '2000-06-07',\n",
       "  'column_names': ['Date',\n",
       "   'Open',\n",
       "   'High',\n",
       "   'Low',\n",
       "   'Close',\n",
       "   'Change',\n",
       "   'Traded Volume',\n",
       "   'Turnover',\n",
       "   'Last Price of the Day',\n",
       "   'Daily Traded Units',\n",
       "   'Daily Turnover'],\n",
       "  'frequency': 'daily',\n",
       "  'type': 'Time Series',\n",
       "  'premium': False,\n",
       "  'limit': None,\n",
       "  'transform': None,\n",
       "  'column_index': None,\n",
       "  'start_date': '2020-07-23',\n",
       "  'end_date': '2020-07-24',\n",
       "  'data': [['2020-07-24',\n",
       "    90.5,\n",
       "    90.5,\n",
       "    87.85,\n",
       "    87.9,\n",
       "    None,\n",
       "    177031.0,\n",
       "    15683394.95,\n",
       "    None,\n",
       "    None,\n",
       "    None],\n",
       "   ['2020-07-23',\n",
       "    88.4,\n",
       "    91.55,\n",
       "    88.15,\n",
       "    91.55,\n",
       "    None,\n",
       "    146866.0,\n",
       "    13280553.85,\n",
       "    None,\n",
       "    None,\n",
       "    None]],\n",
       "  'collapse': None,\n",
       "  'order': None,\n",
       "  'database_id': 6129}}"
      ]
     },
     "execution_count": 4,
     "metadata": {},
     "output_type": "execute_result"
    }
   ],
   "source": [
    "# Inspect the JSON structure of the object you created, and take note of how nested it is,\n",
    "# as well as the overall structure\n",
    "response.json()"
   ]
  },
  {
   "cell_type": "markdown",
   "metadata": {},
   "source": [
    "These are your tasks for this mini project:\n",
    "\n",
    "1. Collect data from the Franfurt Stock Exchange, for the ticker AFX_X, for the whole year 2017 (keep in mind that the date format is YYYY-MM-DD).\n",
    "2. Convert the returned JSON object into a Python dictionary.\n",
    "3. Calculate what the highest and lowest opening prices were for the stock in this period.\n",
    "4. What was the largest change in any one day (based on High and Low price)?\n",
    "5. What was the largest change between any two days (based on Closing Price)?\n",
    "6. What was the average daily trading volume during this year?\n",
    "7. (Optional) What was the median trading volume during this year. (Note: you may need to implement your own function for calculating the median.)"
   ]
  },
  {
   "cell_type": "code",
   "execution_count": 5,
   "metadata": {},
   "outputs": [
    {
     "data": {
      "text/plain": [
       "dict_keys(['id', 'dataset_code', 'database_code', 'name', 'description', 'refreshed_at', 'newest_available_date', 'oldest_available_date', 'column_names', 'frequency', 'type', 'premium', 'limit', 'transform', 'column_index', 'start_date', 'end_date', 'data', 'collapse', 'order', 'database_id'])"
      ]
     },
     "execution_count": 5,
     "metadata": {},
     "output_type": "execute_result"
    }
   ],
   "source": [
    "#We'll start by defining the start and end dates then request the corresponding data from Quandl\n",
    "startDate = '2017-01-01'\n",
    "endDate = '2017-12-31'\n",
    "response = requests.get('https://www.quandl.com/api/v3/datasets/FSE/AFX_X?start_date='+startDate+'&end_date='+ endDate + '&api_key='+API_KEY)\n",
    "#Convert the json to a dict:\n",
    "data = response.json()\n",
    "#lets take a look at the keys\n",
    "data['dataset'].keys()"
   ]
  },
  {
   "cell_type": "code",
   "execution_count": 6,
   "metadata": {},
   "outputs": [],
   "source": [
    "# Next we'll create a new dictionary that will be much more streamlined for the analysis. It will be a nested dictionary with \n",
    "#the first set of keys being the date and the value for wach date will be dictionaries with keys that correspond to the column_names\n",
    "#from the json date and their corresponding values as the values. Note that this dictionary would be structred to seamlessly be\n",
    "#converted to a pandas dataframe (if we were allowed to use one in this exercise...)\n",
    "\n",
    "#First initialize an empty dictionary\n",
    "stocks = {}\n",
    "#for each of the dates in the data set (first key from the json), we'll create an empty dictionary\n",
    "for day in data['dataset']['data']:\n",
    "    stocks[day[0]] = {}\n",
    "    #Next, we add the key value pairs from the 'column_names' nested dict from the json data and the day dictionary (this is the \n",
    "    #dictionary that contains the corresponding data), note that the 0th element of the column_names value and the day value\n",
    "    #is the date itself so we need to skip that\n",
    "    for num, col in enumerate(data['dataset']['column_names'][1::]):\n",
    "        stocks[day[0]][col] = day[num+1]"
   ]
  },
  {
   "cell_type": "code",
   "execution_count": 10,
   "metadata": {},
   "outputs": [
    {
     "data": {
      "text/plain": [
       "[]"
      ]
     },
     "execution_count": 10,
     "metadata": {},
     "output_type": "execute_result"
    }
   ],
   "source": [
    "#We need to drop any days for which we may be missing the high, low or closing data. I'll accomplish this by creating a list of days to delete\n",
    "missingData = []\n",
    "[missingData.append(day) for day in stocks if not stocks[day]['High'] or not stocks[day]['Low'] or not stocks[day]['Close']]\n",
    "        \n",
    "#Now we need to delete the days that are missing data\n",
    "\n",
    "for day in missingData:\n",
    "    del stocks[day] "
   ]
  },
  {
   "cell_type": "code",
   "execution_count": 11,
   "metadata": {},
   "outputs": [
    {
     "name": "stdout",
     "output_type": "stream",
     "text": [
      "The highest closing price during 2017 was: 53.09\n",
      "The lowest closing price during 2017 was : 34.06\n"
     ]
    }
   ],
   "source": [
    "#determine the high and low closing values using list comprehension\n",
    "highClose = max(day['Close'] for day in stocks.values())\n",
    "print('The highest closing price during 2017 was: ' + str(highClose))\n",
    "lowClose = min(day['Close'] for day in stocks.values())\n",
    "print('The lowest closing price during 2017 was : ' + str(lowClose))"
   ]
  },
  {
   "cell_type": "code",
   "execution_count": 12,
   "metadata": {},
   "outputs": [
    {
     "name": "stdout",
     "output_type": "stream",
     "text": [
      "The largest intraday change was: 2.8100000000000023\n"
     ]
    }
   ],
   "source": [
    "#Determine the largest change in one day using list comprehension\n",
    "maxChange = max([day['High']-day['Low'] for day in stocks.values()])\n",
    "print('The largest intraday change was: ' + str(maxChange))\n"
   ]
  },
  {
   "cell_type": "code",
   "execution_count": 13,
   "metadata": {},
   "outputs": [
    {
     "name": "stdout",
     "output_type": "stream",
     "text": [
      "The maximum change between any two days during 2017 was: 2.559999999999995\n"
     ]
    }
   ],
   "source": [
    "#Determine the largest interday change. To do this we'll create a list of the dates for which we have data, then iterate\n",
    "#through the list of dates subtracting the last close from the current days close. \n",
    "#First create the list of days.\n",
    "days = list(stocks.keys())\n",
    "#initialize a list for the interDay change\n",
    "interDay = []\n",
    "#Append the change from the current close to the last days close for each day\n",
    "[interDay.append(stocks[days[day]]['Close'] - stocks[days[day-1]]['Close']) for day in range(1, len(days))]\n",
    "# We want to capture the largest swing regarless of direction so if the absolute value of themin (meaning a negative swing) is \n",
    "#greater than the max swing, we'll report the minimum as the largest swing. \n",
    "minInterDay = min(interDay)\n",
    "maxInterDay = max(interDay)\n",
    "if abs(minInterDay) > maxInterDay:\n",
    "    maxInterDay = minInterday\n",
    "print('The maximum change between any two days during 2017 was: ' + str(maxInterDay))"
   ]
  },
  {
   "cell_type": "code",
   "execution_count": 14,
   "metadata": {},
   "outputs": [
    {
     "name": "stdout",
     "output_type": "stream",
     "text": [
      "The average daily traded volume for 2017 was: 89124.33725490196\n"
     ]
    }
   ],
   "source": [
    "#To find the average volume, we'll create a list of the daily trade volumes, then calculate the mean of the list\n",
    "#initialize an empty list\n",
    "dailyVol = []\n",
    "#Append each days traded volume value\n",
    "[dailyVol.append(day['Traded Volume']) for day in stocks.values()]\n",
    "#Calculate the mean\n",
    "meanVol = float(sum(dailyVol)/len(dailyVol))\n",
    "print('The average daily traded volume for 2017 was: ' + str(meanVol))"
   ]
  },
  {
   "cell_type": "code",
   "execution_count": 15,
   "metadata": {},
   "outputs": [
    {
     "name": "stdout",
     "output_type": "stream",
     "text": [
      "The median stock volume for 2017 was: 76600.0\n"
     ]
    }
   ],
   "source": [
    "#I'll write a short function to return the median of a list \n",
    "\n",
    "def medianStock(stockData):\n",
    "    #first we'll sort the stock data \n",
    "    stockData = sorted(dailyVol)\n",
    "    #Next we need to determine if the number of elements is even or odd\n",
    "    #If its odd then we just find the mid-point \n",
    "    if len(stockData)%2 != 0:\n",
    "        mid = round(len(stockData)/2)\n",
    "        return stockData[mid]\n",
    "    else:\n",
    "        #If the number of elements is even, we'll need ot find the average of the two midpoints\n",
    "        mid = len(stockData)/2\n",
    "        return (stockData[mid+1] + stockData[mid-1])/2\n",
    "\n",
    "print('The median stock volume for 2017 was: ' + str(medianStock(dailyVol)))\n"
   ]
  }
 ],
 "metadata": {
  "kernelspec": {
   "display_name": "Python 3",
   "language": "python",
   "name": "python3"
  },
  "language_info": {
   "codemirror_mode": {
    "name": "ipython",
    "version": 3
   },
   "file_extension": ".py",
   "mimetype": "text/x-python",
   "name": "python",
   "nbconvert_exporter": "python",
   "pygments_lexer": "ipython3",
   "version": "3.7.6"
  }
 },
 "nbformat": 4,
 "nbformat_minor": 2
}
